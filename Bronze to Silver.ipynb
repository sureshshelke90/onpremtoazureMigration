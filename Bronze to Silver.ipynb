{
 "cells": [
  {
   "cell_type": "code",
   "execution_count": 0,
   "metadata": {
    "application/vnd.databricks.v1+cell": {
     "cellMetadata": {
      "byteLimit": 2048000,
      "rowLimit": 10000
     },
     "inputWidgets": {},
     "nuid": "64f49a88-1a77-4245-953f-e8cd44c695d0",
     "showTitle": false,
     "title": ""
    }
   },
   "outputs": [
    {
     "output_type": "execute_result",
     "data": {
      "text/plain": [
       "[FileInfo(path='dbfs:/mnt/onprem/bronze/Person/AddressType/', name='AddressType/', size=0, modificationTime=1708940426000),\n",
       " FileInfo(path='dbfs:/mnt/onprem/bronze/Person/BusinessEntity/', name='BusinessEntity/', size=0, modificationTime=1708940430000),\n",
       " FileInfo(path='dbfs:/mnt/onprem/bronze/Person/BusinessEntityAddress/', name='BusinessEntityAddress/', size=0, modificationTime=1708940436000),\n",
       " FileInfo(path='dbfs:/mnt/onprem/bronze/Person/BusinessEntityContact/', name='BusinessEntityContact/', size=0, modificationTime=1708940422000),\n",
       " FileInfo(path='dbfs:/mnt/onprem/bronze/Person/ContactType/', name='ContactType/', size=0, modificationTime=1708940424000),\n",
       " FileInfo(path='dbfs:/mnt/onprem/bronze/Person/CountryRegion/', name='CountryRegion/', size=0, modificationTime=1708940423000),\n",
       " FileInfo(path='dbfs:/mnt/onprem/bronze/Person/EmailAddress/', name='EmailAddress/', size=0, modificationTime=1708940434000),\n",
       " FileInfo(path='dbfs:/mnt/onprem/bronze/Person/Password/', name='Password/', size=0, modificationTime=1708940431000),\n",
       " FileInfo(path='dbfs:/mnt/onprem/bronze/Person/Person/', name='Person/', size=0, modificationTime=1708940435000),\n",
       " FileInfo(path='dbfs:/mnt/onprem/bronze/Person/PersonPhone/', name='PersonPhone/', size=0, modificationTime=1708940434000),\n",
       " FileInfo(path='dbfs:/mnt/onprem/bronze/Person/PhoneNumberType/', name='PhoneNumberType/', size=0, modificationTime=1708940432000),\n",
       " FileInfo(path='dbfs:/mnt/onprem/bronze/Person/StateProvince/', name='StateProvince/', size=0, modificationTime=1708940427000)]"
      ]
     },
     "execution_count": 4,
     "metadata": {},
     "output_type": "execute_result"
    }
   ],
   "source": [
    "dbutils.fs.ls(\"mnt/onprem/bronze/Person\")"
   ]
  },
  {
   "cell_type": "code",
   "execution_count": 0,
   "metadata": {
    "application/vnd.databricks.v1+cell": {
     "cellMetadata": {
      "byteLimit": 2048000,
      "rowLimit": 10000
     },
     "inputWidgets": {},
     "nuid": "ee063dca-f897-49a3-bbc0-4a2bf7db658d",
     "showTitle": false,
     "title": ""
    }
   },
   "outputs": [
    {
     "output_type": "execute_result",
     "data": {
      "text/plain": [
       "[FileInfo(path='dbfs:/mnt/onprem/bronze/Person/Person/Person.parquet', name='Person.parquet', size=2249980, modificationTime=1708943287000)]"
      ]
     },
     "execution_count": 3,
     "metadata": {},
     "output_type": "execute_result"
    }
   ],
   "source": [
    "dbutils.fs.ls(\"mnt/onprem/bronze/Person/Person\")"
   ]
  },
  {
   "cell_type": "code",
   "execution_count": 0,
   "metadata": {
    "application/vnd.databricks.v1+cell": {
     "cellMetadata": {
      "byteLimit": 2048000,
      "rowLimit": 10000
     },
     "inputWidgets": {},
     "nuid": "e4bc4a0f-f423-4823-83f7-7c488e805df2",
     "showTitle": false,
     "title": ""
    }
   },
   "outputs": [],
   "source": [
    "df= spark.read.format(\"parquet\").load(\"dbfs:/mnt/onprem/bronze/Person/Person/Person.parquet\")"
   ]
  },
  {
   "cell_type": "code",
   "execution_count": 0,
   "metadata": {
    "application/vnd.databricks.v1+cell": {
     "cellMetadata": {
      "byteLimit": 2048000,
      "rowLimit": 10000
     },
     "inputWidgets": {},
     "nuid": "ab8c03fa-350e-4189-8957-3b2aab349c78",
     "showTitle": false,
     "title": ""
    }
   },
   "outputs": [],
   "source": [
    "from pyspark.sql.functions import from_utc_timestamp,date_format\n",
    "from pyspark.sql.types import TimestampType\n",
    "df = df.withColumn(\"ModifiedDate\",date_format(from_utc_timestamp(df[\"ModifiedDate\"].cast(TimestampType()),\"UTC\"),\"yyyy-MM-dd\"))\n"
   ]
  },
  {
   "cell_type": "markdown",
   "metadata": {
    "application/vnd.databricks.v1+cell": {
     "cellMetadata": {},
     "inputWidgets": {},
     "nuid": "bd0cbf81-e41f-4cea-8a40-68486abaf638",
     "showTitle": false,
     "title": ""
    }
   },
   "source": [
    "# Doning transformation for all the Table"
   ]
  },
  {
   "cell_type": "code",
   "execution_count": 0,
   "metadata": {
    "application/vnd.databricks.v1+cell": {
     "cellMetadata": {
      "byteLimit": 2048000,
      "rowLimit": 10000
     },
     "inputWidgets": {},
     "nuid": "975ba78c-bf2d-41f4-a657-9da2f99aede8",
     "showTitle": false,
     "title": ""
    }
   },
   "outputs": [],
   "source": [
    "table_name=[]\n",
    "for i in dbutils.fs.ls('/mnt/onprem/bronze/Person/'):\n",
    "    table_name.append(i.name.split('/')[0])"
   ]
  },
  {
   "cell_type": "code",
   "execution_count": 0,
   "metadata": {
    "application/vnd.databricks.v1+cell": {
     "cellMetadata": {
      "byteLimit": 2048000,
      "rowLimit": 10000
     },
     "inputWidgets": {},
     "nuid": "027f5ab7-13ab-45f4-980d-e97483c2d8ef",
     "showTitle": false,
     "title": ""
    }
   },
   "outputs": [],
   "source": [
    "from pyspark.sql.functions import from_utc_timestamp,date_format\n",
    "from pyspark.sql.types import TimestampType\n",
    "for i in table_name:\n",
    "    path ='/mnt/onprem/bronze/Person/' + i + '/' + i + '.parquet'\n",
    "    df= spark.read.format(\"parquet\").load(path)\n",
    "    column = df.columns\n",
    "    for col in column:\n",
    "        if \"Date\" in col or \"date\" in col:\n",
    "            df = df.withColumn(\"ModifiedDate\",date_format(from_utc_timestamp(df[\"ModifiedDate\"].cast(TimestampType()),\"UTC\"),\"yyyy-MM-dd\"))\n",
    "    output_path='/mnt/onprem/silver/' + i + '/'\n",
    "    df.write.format('delta').mode(\"overwrite\").save(output_path)\n",
    "\n"
   ]
  },
  {
   "cell_type": "code",
   "execution_count": 0,
   "metadata": {
    "application/vnd.databricks.v1+cell": {
     "cellMetadata": {
      "byteLimit": 2048000,
      "rowLimit": 10000
     },
     "inputWidgets": {},
     "nuid": "e73dbaf3-0d78-4d2b-a829-00e145565e30",
     "showTitle": false,
     "title": ""
    }
   },
   "outputs": [
    {
     "output_type": "display_data",
     "data": {
      "text/html": [
       "<style scoped>\n",
       "  .table-result-container {\n",
       "    max-height: 300px;\n",
       "    overflow: auto;\n",
       "  }\n",
       "  table, th, td {\n",
       "    border: 1px solid black;\n",
       "    border-collapse: collapse;\n",
       "  }\n",
       "  th, td {\n",
       "    padding: 5px;\n",
       "  }\n",
       "  th {\n",
       "    text-align: left;\n",
       "  }\n",
       "</style><div class='table-result-container'><table class='table-result'><thead style='background-color: white'><tr><th>StateProvinceID</th><th>StateProvinceCode</th><th>CountryRegionCode</th><th>IsOnlyStateProvinceFlag</th><th>Name</th><th>TerritoryID</th><th>rowguid</th><th>ModifiedDate</th></tr></thead><tbody><tr><td>1</td><td>AB </td><td>CA</td><td>false</td><td>Alberta</td><td>6</td><td>298c2880-ab1c-4982-a5ad-a36eb4ba0d34</td><td>2014-02-08</td></tr><tr><td>2</td><td>AK </td><td>US</td><td>false</td><td>Alaska</td><td>1</td><td>5b7b8462-a888-4e0b-a3e1-7278f8af107e</td><td>2014-02-08</td></tr><tr><td>3</td><td>AL </td><td>US</td><td>false</td><td>Alabama</td><td>5</td><td>41b328be-21ae-45d0-841d-6f8dd71ce626</td><td>2014-02-08</td></tr><tr><td>4</td><td>AR </td><td>US</td><td>false</td><td>Arkansas</td><td>3</td><td>54656a80-06f2-4c70-ba10-247179fc246e</td><td>2014-02-08</td></tr><tr><td>5</td><td>AS </td><td>AS</td><td>true</td><td>American Samoa</td><td>1</td><td>255d15e1-9f6e-4cf8-9e5f-6b3858ad9b6a</td><td>2014-02-08</td></tr><tr><td>6</td><td>AZ </td><td>US</td><td>false</td><td>Arizona</td><td>4</td><td>fb8be18e-f441-44f0-a4a9-1d0f204cb701</td><td>2014-02-08</td></tr><tr><td>7</td><td>BC </td><td>CA</td><td>false</td><td>British Columbia</td><td>6</td><td>d27fcc6e-bb99-438b-ba86-285ceeb2fa53</td><td>2014-02-08</td></tr><tr><td>8</td><td>BY </td><td>DE</td><td>false</td><td>Bayern</td><td>8</td><td>d54e5000-a0da-46d1-86b0-b8fe16c9f781</td><td>2014-02-08</td></tr><tr><td>9</td><td>CA </td><td>US</td><td>false</td><td>California</td><td>4</td><td>3b2ff23c-1c75-40ae-9093-f4eb42263f4e</td><td>2014-02-08</td></tr><tr><td>10</td><td>CO </td><td>US</td><td>false</td><td>Colorado</td><td>3</td><td>292df595-7d3c-41fb-a040-7c184d379fce</td><td>2014-02-08</td></tr><tr><td>11</td><td>CT </td><td>US</td><td>false</td><td>Connecticut</td><td>2</td><td>1e7bb47a-e16b-4968-86fa-45af0211fa84</td><td>2014-02-08</td></tr><tr><td>12</td><td>DC </td><td>US</td><td>false</td><td>District of Columbia</td><td>2</td><td>a1f3c57e-85b3-41e3-88e8-07244cf087dd</td><td>2014-02-08</td></tr><tr><td>13</td><td>DE </td><td>US</td><td>false</td><td>Delaware</td><td>2</td><td>7a11ab1d-77c0-4021-9140-8e81f105618e</td><td>2014-02-08</td></tr><tr><td>14</td><td>ENG</td><td>GB</td><td>true</td><td>England</td><td>10</td><td>3e3cb3f8-44b9-44d9-a1c3-cbfb11e0a7da</td><td>2014-02-08</td></tr><tr><td>15</td><td>FL </td><td>US</td><td>false</td><td>Florida</td><td>5</td><td>ee8ba90d-b2c3-418e-93df-20e33f095959</td><td>2014-02-08</td></tr><tr><td>16</td><td>FM </td><td>FM</td><td>true</td><td>Micronesia</td><td>9</td><td>3202da35-aed4-40e2-9ec4-27c17f420170</td><td>2014-02-08</td></tr><tr><td>17</td><td>GA </td><td>US</td><td>false</td><td>Georgia</td><td>5</td><td>a6ca20d1-31ac-4771-8994-93dbbdcce360</td><td>2014-02-08</td></tr><tr><td>18</td><td>GU </td><td>US</td><td>false</td><td>Guam</td><td>4</td><td>92b5a04e-26ec-4edb-8d14-e72e29b14411</td><td>2014-02-08</td></tr><tr><td>19</td><td>HE </td><td>DE</td><td>false</td><td>Hessen</td><td>8</td><td>834fc3df-b60d-4f94-95bd-aef8a9fb74e8</td><td>2014-02-08</td></tr><tr><td>20</td><td>HH </td><td>DE</td><td>false</td><td>Hamburg</td><td>8</td><td>1cc5a134-60d7-40c2-9269-cda494214abf</td><td>2014-02-08</td></tr><tr><td>21</td><td>HI </td><td>US</td><td>false</td><td>Hawaii</td><td>1</td><td>09cdccdc-b4b8-44ea-b04f-6ef521e3e720</td><td>2014-02-08</td></tr><tr><td>22</td><td>IA </td><td>US</td><td>false</td><td>Iowa</td><td>3</td><td>956a6c02-7d2f-4c9d-b275-8d2c0ef8fd83</td><td>2014-02-08</td></tr><tr><td>23</td><td>ID </td><td>US</td><td>false</td><td>Idaho</td><td>1</td><td>628e983a-33c7-4cb4-867f-274ef12b3597</td><td>2014-02-08</td></tr><tr><td>24</td><td>IL </td><td>US</td><td>false</td><td>Illinois</td><td>3</td><td>1f9120cf-683a-4132-a12c-98997fadeb26</td><td>2014-02-08</td></tr><tr><td>25</td><td>IN </td><td>US</td><td>false</td><td>Indiana</td><td>2</td><td>91f21ef0-c528-4310-bb29-6ba45ae75a17</td><td>2014-02-08</td></tr><tr><td>26</td><td>KS </td><td>US</td><td>false</td><td>Kansas</td><td>3</td><td>4eccc236-56e8-4ff7-b510-bf50e0966046</td><td>2014-02-08</td></tr><tr><td>27</td><td>KY </td><td>US</td><td>false</td><td>Kentucky</td><td>5</td><td>810918bc-45dc-4e01-8544-b322a05ec94e</td><td>2014-02-08</td></tr><tr><td>28</td><td>LA </td><td>US</td><td>false</td><td>Louisiana</td><td>3</td><td>4e2bc5a5-0c3e-421b-be18-5d79b4a7c0d0</td><td>2014-02-08</td></tr><tr><td>29</td><td>LB </td><td>CA</td><td>false</td><td>Labrador</td><td>6</td><td>9847c998-a7bf-4a66-bbac-75939b092cc0</td><td>2014-02-08</td></tr><tr><td>30</td><td>MA </td><td>US</td><td>false</td><td>Massachusetts</td><td>2</td><td>77d7e754-1b03-4bb3-a4d4-b1a6ac1c968e</td><td>2014-02-08</td></tr><tr><td>31</td><td>MB </td><td>CA</td><td>false</td><td>Manitoba</td><td>6</td><td>0ff23b5d-1e18-40f8-a886-9960ed699049</td><td>2014-02-08</td></tr><tr><td>32</td><td>MD </td><td>US</td><td>false</td><td>Maryland</td><td>2</td><td>b3d8517d-a857-41e7-a692-a1cb02a5f667</td><td>2014-02-08</td></tr><tr><td>33</td><td>ME </td><td>US</td><td>false</td><td>Maine</td><td>2</td><td>b978a102-632b-4345-8918-e0e8f440fc3b</td><td>2014-02-08</td></tr><tr><td>34</td><td>MH </td><td>MH</td><td>true</td><td>Marshall Islands</td><td>9</td><td>c5c5a615-e2dd-4fdf-a4a7-0613c6ccae80</td><td>2014-02-08</td></tr><tr><td>35</td><td>MI </td><td>US</td><td>false</td><td>Michigan</td><td>3</td><td>0cb0855b-783a-4701-9d45-597a919bfb23</td><td>2014-02-08</td></tr><tr><td>36</td><td>MN </td><td>US</td><td>false</td><td>Minnesota</td><td>3</td><td>553c8daa-4142-427c-b772-66bedadef372</td><td>2014-02-08</td></tr><tr><td>37</td><td>MO </td><td>US</td><td>false</td><td>Missouri</td><td>3</td><td>ff5d76ae-0b45-4f32-96f7-ad5b7775e9ec</td><td>2014-02-08</td></tr><tr><td>38</td><td>MP </td><td>MP</td><td>true</td><td>Northern Mariana Islands</td><td>9</td><td>abebd704-db65-47f7-a778-528025f7e7f4</td><td>2014-02-08</td></tr><tr><td>39</td><td>MS </td><td>US</td><td>false</td><td>Mississippi</td><td>5</td><td>d33f23c7-60be-4d31-8028-814a6cca7f37</td><td>2014-02-08</td></tr><tr><td>40</td><td>MT </td><td>US</td><td>false</td><td>Montana</td><td>1</td><td>d4ff6e1a-a8e8-4379-a43c-746dbb0d6d13</td><td>2014-02-08</td></tr><tr><td>41</td><td>NB </td><td>CA</td><td>false</td><td>Brunswick</td><td>6</td><td>c28c848f-ae86-4859-9e7e-0190d6c22700</td><td>2014-02-08</td></tr><tr><td>42</td><td>NC </td><td>US</td><td>false</td><td>North Carolina</td><td>5</td><td>2c1c5211-3388-4dff-b0ff-db0b43e4a22d</td><td>2014-02-08</td></tr><tr><td>43</td><td>ND </td><td>US</td><td>false</td><td>North Dakota</td><td>3</td><td>1551bea8-4dee-477d-858f-45ff7a2fb14f</td><td>2014-02-08</td></tr><tr><td>44</td><td>NE </td><td>US</td><td>false</td><td>Nebraska</td><td>3</td><td>2dea1c82-a684-4d7c-bea2-4119d9d3ae60</td><td>2014-02-08</td></tr><tr><td>45</td><td>NF </td><td>CA</td><td>false</td><td>Newfoundland</td><td>6</td><td>26d01b6d-3726-453f-b1f3-98a332eb3d8d</td><td>2014-02-08</td></tr><tr><td>46</td><td>NH </td><td>US</td><td>false</td><td>New Hampshire</td><td>2</td><td>b30c26ae-62e3-499a-80a8-a167275baebd</td><td>2014-02-08</td></tr><tr><td>47</td><td>NJ </td><td>US</td><td>false</td><td>New Jersey</td><td>2</td><td>7464d0b1-78a7-4f8a-b4cc-375900005f46</td><td>2014-02-08</td></tr><tr><td>48</td><td>NM </td><td>US</td><td>false</td><td>New Mexico</td><td>4</td><td>11deda26-4733-497f-bae3-7bed6b076600</td><td>2014-02-08</td></tr><tr><td>49</td><td>NS </td><td>CA</td><td>false</td><td>Nova Scotia</td><td>6</td><td>adf58ba5-269f-4c48-8c7d-6754e4667acf</td><td>2014-02-08</td></tr><tr><td>50</td><td>NSW</td><td>AU</td><td>false</td><td>New South Wales</td><td>9</td><td>9910dd7e-a4c5-4599-86f5-9f581b53a92d</td><td>2014-02-08</td></tr><tr><td>51</td><td>NT </td><td>CA</td><td>false</td><td>Northwest Territories</td><td>6</td><td>ccaac582-ef30-492c-93ce-5f8b3452d531</td><td>2014-02-08</td></tr><tr><td>52</td><td>NV </td><td>US</td><td>false</td><td>Nevada</td><td>1</td><td>50e0fbe0-50b7-40eb-a20b-aaae85a680dd</td><td>2014-02-08</td></tr><tr><td>53</td><td>NW </td><td>DE</td><td>false</td><td>Nordrhein-Westfalen</td><td>8</td><td>c385b296-fbb7-44e1-9ded-23b7fba346f0</td><td>2014-02-08</td></tr><tr><td>54</td><td>NY </td><td>US</td><td>false</td><td>New York</td><td>2</td><td>4f83e68d-4c26-4c53-a4b3-46b7f19c6498</td><td>2014-02-08</td></tr><tr><td>55</td><td>OH </td><td>US</td><td>false</td><td>Ohio</td><td>2</td><td>6e1792b5-d021-47b1-98fc-9d60f46f3400</td><td>2014-02-08</td></tr><tr><td>56</td><td>OK </td><td>US</td><td>false</td><td>Oklahoma</td><td>3</td><td>aa680eba-b546-4718-8379-963da0cea86f</td><td>2014-02-08</td></tr><tr><td>57</td><td>ON </td><td>CA</td><td>false</td><td>Ontario</td><td>6</td><td>5528e2cf-ae39-4f65-bd32-fa32c6ff96fa</td><td>2014-02-08</td></tr><tr><td>58</td><td>OR </td><td>US</td><td>false</td><td>Oregon</td><td>1</td><td>17ebf52e-94c8-4e7b-9ef3-5b6236763b49</td><td>2014-02-08</td></tr><tr><td>59</td><td>PA </td><td>US</td><td>false</td><td>Pennsylvania</td><td>2</td><td>9e1d834c-7076-4546-9f1b-1bd626037250</td><td>2014-02-08</td></tr><tr><td>60</td><td>PE </td><td>CA</td><td>false</td><td>Prince Edward Island</td><td>6</td><td>8b3ec300-24f0-42ab-8dcf-60f45f007642</td><td>2014-02-08</td></tr><tr><td>61</td><td>PR </td><td>US</td><td>false</td><td>Puerto Rico</td><td>5</td><td>71b87f6c-5c07-4b7f-8d8c-2c5310410579</td><td>2014-02-08</td></tr><tr><td>62</td><td>PW </td><td>PW</td><td>true</td><td>Palau</td><td>9</td><td>efcf1702-2358-40fc-be8f-df6d71a7d89a</td><td>2014-02-08</td></tr><tr><td>63</td><td>QC </td><td>CA</td><td>false</td><td>Quebec</td><td>6</td><td>ff830158-3466-495f-bfcf-8a1b82a65355</td><td>2014-02-08</td></tr><tr><td>64</td><td>QLD</td><td>AU</td><td>false</td><td>Queensland</td><td>9</td><td>152658fa-ad59-4fa0-82a6-f76980f0183f</td><td>2014-02-08</td></tr><tr><td>65</td><td>RI </td><td>US</td><td>false</td><td>Rhode Island</td><td>2</td><td>7fc72ab3-646d-475f-a708-544af3636aa8</td><td>2014-02-08</td></tr><tr><td>66</td><td>SA </td><td>AU</td><td>false</td><td>South Australia</td><td>9</td><td>dcae37cd-fd8d-41fe-90ed-edad22b63dc8</td><td>2014-02-08</td></tr><tr><td>67</td><td>SC </td><td>US</td><td>false</td><td>South Carolina</td><td>5</td><td>131cf47d-4f64-4a08-afcb-0a1ee17a8534</td><td>2014-02-08</td></tr><tr><td>68</td><td>SD </td><td>US</td><td>false</td><td>South Dakota</td><td>3</td><td>90aad17f-451f-42a1-9cf8-ec65b0acb34f</td><td>2014-02-08</td></tr><tr><td>69</td><td>SK </td><td>CA</td><td>false</td><td>Saskatchewan</td><td>6</td><td>d44759ba-43e8-42e7-98fa-54b377c734fc</td><td>2014-02-08</td></tr><tr><td>70</td><td>SL </td><td>DE</td><td>false</td><td>Saarland</td><td>8</td><td>f555dd9e-a190-4dc4-9433-7fe257aa6e82</td><td>2014-02-08</td></tr><tr><td>71</td><td>TAS</td><td>AU</td><td>false</td><td>Tasmania</td><td>9</td><td>2db59b03-9f19-4d12-acef-974016827be1</td><td>2014-02-08</td></tr><tr><td>72</td><td>TN </td><td>US</td><td>false</td><td>Tennessee</td><td>5</td><td>d1b0f98f-514d-42b4-b84b-9c40a8a455d5</td><td>2014-02-08</td></tr><tr><td>73</td><td>TX </td><td>US</td><td>false</td><td>Texas</td><td>4</td><td>99c542e0-5d3d-43a6-8d96-af65a985d6e4</td><td>2014-02-08</td></tr><tr><td>74</td><td>UT </td><td>US</td><td>false</td><td>Utah</td><td>1</td><td>fd66be42-bfef-4233-942b-e8d79a594afa</td><td>2014-02-08</td></tr><tr><td>75</td><td>VA </td><td>US</td><td>false</td><td>Virginia</td><td>5</td><td>990aa59c-838c-410f-a675-17eb861fa33f</td><td>2014-02-08</td></tr><tr><td>76</td><td>VI </td><td>VI</td><td>true</td><td>Virgin Islands</td><td>5</td><td>14f593d3-1500-477d-ac6b-d41b3fafbe5a</td><td>2014-02-08</td></tr><tr><td>77</td><td>VIC</td><td>AU</td><td>false</td><td>Victoria</td><td>9</td><td>6a683928-8f1f-4369-a64a-60979e216824</td><td>2014-02-08</td></tr><tr><td>78</td><td>VT </td><td>US</td><td>false</td><td>Vermont</td><td>2</td><td>348687e4-7879-4d74-afd7-c8511588cfa3</td><td>2014-02-08</td></tr><tr><td>79</td><td>WA </td><td>US</td><td>false</td><td>Washington</td><td>1</td><td>16274df0-6f05-43a6-bc18-ad171017a1eb</td><td>2014-02-08</td></tr><tr><td>80</td><td>WI </td><td>US</td><td>false</td><td>Wisconsin</td><td>3</td><td>9d93821e-3add-42de-bd51-81cfa94046ff</td><td>2014-02-08</td></tr><tr><td>81</td><td>WV </td><td>US</td><td>false</td><td>West Virginia</td><td>5</td><td>c9ce898f-8e21-4fbf-a70a-06f32d543a18</td><td>2014-02-08</td></tr><tr><td>82</td><td>WY </td><td>US</td><td>false</td><td>Wyoming</td><td>1</td><td>778951dc-0475-4054-8cab-892c8a38174e</td><td>2014-02-08</td></tr><tr><td>83</td><td>YT </td><td>CA</td><td>false</td><td>Yukon Territory</td><td>6</td><td>a01f5896-c4b1-4c2a-9f60-56470dd39f82</td><td>2014-02-08</td></tr><tr><td>84</td><td>FR </td><td>FR</td><td>true</td><td>France</td><td>7</td><td>092c7063-901e-414b-bc61-0bf7919da883</td><td>2008-04-30</td></tr><tr><td>85</td><td>BB </td><td>DE</td><td>false</td><td>Brandenburg</td><td>8</td><td>dd386c06-2beb-4f18-9a85-c066f1a47ea1</td><td>2008-04-30</td></tr><tr><td>86</td><td>SN </td><td>DE</td><td>false</td><td>Saxony</td><td>8</td><td>c3e9d0d7-12e7-4395-ac37-11498a3c5e2d</td><td>2008-04-30</td></tr><tr><td>87</td><td>01 </td><td>FR</td><td>false</td><td>Ain</td><td>7</td><td>f6f7985c-9132-46b5-8963-f99c9f3234de</td><td>2008-04-30</td></tr><tr><td>88</td><td>02 </td><td>FR</td><td>false</td><td>Aisne</td><td>7</td><td>1b30c5e7-9bb4-4546-9306-4600ca0e90ca</td><td>2008-04-30</td></tr><tr><td>89</td><td>03 </td><td>FR</td><td>false</td><td>Allier</td><td>7</td><td>dd59673d-852a-4aaf-9b27-623f54477ec2</td><td>2008-04-30</td></tr><tr><td>90</td><td>04 </td><td>FR</td><td>false</td><td>Alpes-de-Haute Provence</td><td>7</td><td>458480b4-e4ab-4015-b73a-1b7296f8b8b3</td><td>2008-04-30</td></tr><tr><td>91</td><td>05 </td><td>FR</td><td>false</td><td>Alpes (Haute)</td><td>7</td><td>0af69922-9301-4e3e-8592-e7a268a27b7a</td><td>2008-04-30</td></tr><tr><td>92</td><td>06 </td><td>FR</td><td>false</td><td>Alpes-Maritimes</td><td>7</td><td>1aaa549b-d0d0-4cfe-be07-8f2858d44505</td><td>2008-04-30</td></tr><tr><td>93</td><td>07 </td><td>FR</td><td>false</td><td>Ardèche</td><td>7</td><td>7c566b51-1e45-4bff-98b7-34cb813de6e1</td><td>2008-04-30</td></tr><tr><td>94</td><td>08 </td><td>FR</td><td>false</td><td>Ardennes</td><td>7</td><td>91e9286b-e601-4f26-95e4-062865e515bf</td><td>2008-04-30</td></tr><tr><td>95</td><td>09 </td><td>FR</td><td>false</td><td>Ariège</td><td>7</td><td>fe5a9442-417c-48c3-b582-ed40b7813c2c</td><td>2008-04-30</td></tr><tr><td>96</td><td>10 </td><td>FR</td><td>false</td><td>Aube</td><td>7</td><td>519d0fb2-ffbf-4b4b-9112-58fea32d84e6</td><td>2008-04-30</td></tr><tr><td>97</td><td>11 </td><td>FR</td><td>false</td><td>Aude</td><td>7</td><td>b451ce92-b0f6-47ff-8769-050050432c9c</td><td>2008-04-30</td></tr><tr><td>98</td><td>12 </td><td>FR</td><td>false</td><td>Aveyron</td><td>7</td><td>79cd2767-a7d9-4bd6-beec-d2cdf4da0af1</td><td>2008-04-30</td></tr><tr><td>99</td><td>13 </td><td>FR</td><td>false</td><td>Bouches du Rhône</td><td>7</td><td>32519bd3-40c2-4976-8579-0f1a7d2d3de4</td><td>2008-04-30</td></tr><tr><td>100</td><td>14 </td><td>FR</td><td>false</td><td>Calvados</td><td>7</td><td>2bd91456-c8ae-4a5d-9270-a4a446eccacb</td><td>2008-04-30</td></tr><tr><td>101</td><td>15 </td><td>FR</td><td>false</td><td>Cantal</td><td>7</td><td>01cec802-20ce-4f96-b475-2ad263cea9d0</td><td>2008-04-30</td></tr><tr><td>102</td><td>16 </td><td>FR</td><td>false</td><td>Charente</td><td>7</td><td>2659c871-80a6-4b8c-b70f-c797d0398bc4</td><td>2008-04-30</td></tr><tr><td>103</td><td>17 </td><td>FR</td><td>false</td><td>Charente-Maritime</td><td>7</td><td>00723e00-c976-401d-a92b-e582df3d6e01</td><td>2008-04-30</td></tr><tr><td>104</td><td>18 </td><td>FR</td><td>false</td><td>Cher</td><td>7</td><td>6adb6ece-a89e-4b00-a886-90436ecd9b68</td><td>2008-04-30</td></tr><tr><td>105</td><td>19 </td><td>FR</td><td>false</td><td>Corrèze</td><td>7</td><td>2363831b-b0ba-4976-92fa-1930817f66c4</td><td>2008-04-30</td></tr><tr><td>106</td><td>20 </td><td>FR</td><td>false</td><td>Corse</td><td>7</td><td>b424959c-9400-492b-9b4c-9f478b77a02c</td><td>2008-04-30</td></tr><tr><td>107</td><td>21 </td><td>FR</td><td>false</td><td>Côte d'Or</td><td>7</td><td>6e9c32d8-b47a-444e-818e-54ecce0b779b</td><td>2008-04-30</td></tr><tr><td>108</td><td>22 </td><td>FR</td><td>false</td><td>Côtes-d'Armor</td><td>7</td><td>a18c188b-64ac-44f6-9928-eb8fc2b924fd</td><td>2008-04-30</td></tr><tr><td>109</td><td>23 </td><td>FR</td><td>false</td><td>Creuse</td><td>7</td><td>d745141e-8645-4309-abab-76a95a8b0a83</td><td>2008-04-30</td></tr><tr><td>110</td><td>24 </td><td>FR</td><td>false</td><td>Dordogne</td><td>7</td><td>6eba51c3-31d2-4376-a4e2-9121b048768f</td><td>2008-04-30</td></tr><tr><td>111</td><td>25 </td><td>FR</td><td>false</td><td>Toubs</td><td>7</td><td>f0622ec9-4eb7-4019-9b08-fd2ed3f74b9b</td><td>2008-04-30</td></tr><tr><td>112</td><td>26 </td><td>FR</td><td>false</td><td>Drôme</td><td>7</td><td>be52295d-d7bd-4dc6-8862-82c0a03dbb30</td><td>2008-04-30</td></tr><tr><td>113</td><td>27 </td><td>FR</td><td>false</td><td>Eure</td><td>7</td><td>8d04729d-75ef-410e-9d04-a95fa51b4b02</td><td>2008-04-30</td></tr><tr><td>114</td><td>28 </td><td>FR</td><td>false</td><td>Eure et Loir</td><td>7</td><td>51cc8b1d-a2a1-440b-8105-bf0e6c74d213</td><td>2008-04-30</td></tr><tr><td>115</td><td>29 </td><td>FR</td><td>false</td><td>Finistère</td><td>7</td><td>f35691e8-878a-4b62-90d8-3de2fb7fae1e</td><td>2008-04-30</td></tr><tr><td>116</td><td>30 </td><td>FR</td><td>false</td><td>Gard</td><td>7</td><td>486709b6-66ca-4778-8dde-13783af7f08b</td><td>2008-04-30</td></tr><tr><td>117</td><td>31 </td><td>FR</td><td>false</td><td>Garonne (Haute)</td><td>7</td><td>d1c5af23-8e71-4320-845f-d324d2d83011</td><td>2008-04-30</td></tr><tr><td>118</td><td>32 </td><td>FR</td><td>false</td><td>Gers</td><td>7</td><td>1e387594-ef10-401a-820e-58cc44c71d0c</td><td>2008-04-30</td></tr><tr><td>119</td><td>33 </td><td>FR</td><td>false</td><td>Gironde</td><td>7</td><td>90b73724-a580-44a6-a1ce-54f98235b83b</td><td>2008-04-30</td></tr><tr><td>120</td><td>34 </td><td>FR</td><td>false</td><td>Hérault</td><td>7</td><td>ab4408a6-1acb-4af4-9b1e-217636d7f3ca</td><td>2008-04-30</td></tr><tr><td>121</td><td>35 </td><td>FR</td><td>false</td><td>Ille et Vilaine</td><td>7</td><td>daf07757-b0b3-49e9-ad2a-cb659ed2b2b4</td><td>2008-04-30</td></tr><tr><td>122</td><td>36 </td><td>FR</td><td>false</td><td>Indre</td><td>7</td><td>aa7107a6-c155-491d-9df3-48cf033af366</td><td>2008-04-30</td></tr><tr><td>123</td><td>37 </td><td>FR</td><td>false</td><td>Indre et Loire</td><td>7</td><td>e8b02fcc-964e-4fdc-ab7e-287f4df5142b</td><td>2008-04-30</td></tr><tr><td>124</td><td>38 </td><td>FR</td><td>false</td><td>Isère</td><td>7</td><td>9c594ba5-1a5b-4b65-8ebe-85bf850fe27b</td><td>2008-04-30</td></tr><tr><td>125</td><td>39 </td><td>FR</td><td>false</td><td>Jura</td><td>7</td><td>2d5e0bde-f3c4-4887-b89f-dca00bab9d63</td><td>2008-04-30</td></tr><tr><td>126</td><td>40 </td><td>FR</td><td>false</td><td>Landes</td><td>7</td><td>95827758-97c8-4058-b5a5-afedfaf4f70f</td><td>2008-04-30</td></tr><tr><td>127</td><td>41 </td><td>FR</td><td>false</td><td>Loir et Cher</td><td>7</td><td>17ec707a-33f7-4261-86cb-9641c2927172</td><td>2008-04-30</td></tr><tr><td>128</td><td>42 </td><td>FR</td><td>false</td><td>Loire</td><td>7</td><td>58b4525b-5306-4390-9ee9-48e2d9502c02</td><td>2008-04-30</td></tr><tr><td>129</td><td>43 </td><td>FR</td><td>false</td><td>Loire (Haute)</td><td>7</td><td>f18ba5b9-2168-4872-9c80-e7f097ab88e0</td><td>2008-04-30</td></tr><tr><td>130</td><td>44 </td><td>FR</td><td>false</td><td>Loire Atlantique</td><td>7</td><td>a87b21f6-4c5c-4735-8615-bba99a16ace2</td><td>2008-04-30</td></tr><tr><td>131</td><td>45 </td><td>FR</td><td>false</td><td>Loiret</td><td>7</td><td>cc67b8c0-bab9-4978-8b61-fa985ae094e1</td><td>2008-04-30</td></tr><tr><td>132</td><td>46 </td><td>FR</td><td>false</td><td>Lot</td><td>7</td><td>fe593326-b0f0-433d-a060-7aa2d37d9cea</td><td>2008-04-30</td></tr><tr><td>133</td><td>47 </td><td>FR</td><td>false</td><td>Lot et Garonne</td><td>7</td><td>4ff85d44-e027-4341-a3b2-b9ba564547f8</td><td>2008-04-30</td></tr><tr><td>134</td><td>48 </td><td>FR</td><td>false</td><td>Lozère</td><td>7</td><td>b862bbab-aef6-4c4d-881f-4207254983c7</td><td>2008-04-30</td></tr><tr><td>135</td><td>49 </td><td>FR</td><td>false</td><td>Maine et Loire</td><td>7</td><td>ef2487e7-0965-4abe-a06c-84cef8964386</td><td>2008-04-30</td></tr><tr><td>136</td><td>50 </td><td>FR</td><td>false</td><td>Manche</td><td>7</td><td>8139979c-2881-4668-9a8e-a45154f809ea</td><td>2008-04-30</td></tr><tr><td>137</td><td>51 </td><td>FR</td><td>false</td><td>Marne</td><td>7</td><td>41b9cb24-50b3-43f7-9e0e-79d901bd45d0</td><td>2008-04-30</td></tr><tr><td>138</td><td>52 </td><td>FR</td><td>false</td><td>Marne (Haute)</td><td>7</td><td>babce9d8-a133-4195-875f-1e65e48844c9</td><td>2008-04-30</td></tr><tr><td>139</td><td>53 </td><td>FR</td><td>false</td><td>Mayenne</td><td>7</td><td>59593a57-5319-43b4-ad3b-78abcb6c12f2</td><td>2008-04-30</td></tr><tr><td>140</td><td>54 </td><td>FR</td><td>false</td><td>Meurthe et Moselle</td><td>7</td><td>8ce54442-acf1-404d-ae17-540e4da781af</td><td>2008-04-30</td></tr><tr><td>141</td><td>55 </td><td>FR</td><td>false</td><td>Meuse</td><td>7</td><td>ca5ed35c-0542-43ed-8f15-a5e1c9c9ab90</td><td>2008-04-30</td></tr><tr><td>142</td><td>56 </td><td>FR</td><td>false</td><td>Morbihan</td><td>7</td><td>a1b147fe-14c8-4cb2-9902-c437ff44ce7b</td><td>2008-04-30</td></tr><tr><td>143</td><td>57 </td><td>FR</td><td>false</td><td>Moselle</td><td>7</td><td>23ec96b5-21ee-4769-be59-812eae26a216</td><td>2008-04-30</td></tr><tr><td>144</td><td>58 </td><td>FR</td><td>false</td><td>Nièvre</td><td>7</td><td>c6088b46-64b3-492c-a4cd-f81b93f351a1</td><td>2008-04-30</td></tr><tr><td>145</td><td>59 </td><td>FR</td><td>false</td><td>Nord</td><td>7</td><td>70943de7-d74a-4de7-8dcf-3fea66efcfdb</td><td>2008-04-30</td></tr><tr><td>146</td><td>60 </td><td>FR</td><td>false</td><td>Oise</td><td>7</td><td>e15a21bc-1bdb-413e-93fb-0a81d6869068</td><td>2008-04-30</td></tr><tr><td>147</td><td>61 </td><td>FR</td><td>false</td><td>Orne</td><td>7</td><td>24753bb2-e1f6-4d1f-b659-81f2ad4a9458</td><td>2008-04-30</td></tr><tr><td>148</td><td>62 </td><td>FR</td><td>false</td><td>Pas de Calais</td><td>7</td><td>72450195-ed1e-4a21-8cc5-5aac8eb9327a</td><td>2008-04-30</td></tr><tr><td>149</td><td>63 </td><td>FR</td><td>false</td><td>Puy de Dôme</td><td>7</td><td>e222d130-0d35-4c6a-9a98-024a758fc677</td><td>2008-04-30</td></tr><tr><td>150</td><td>64 </td><td>FR</td><td>false</td><td>Pyrénées Atlantiques</td><td>7</td><td>f3b411d2-9e8c-4d53-ab5b-06016a44356b</td><td>2008-04-30</td></tr><tr><td>151</td><td>65 </td><td>FR</td><td>false</td><td>Pyrénées (Hautes)</td><td>7</td><td>b5dca57f-0714-4f42-81af-0c5c9eca01f9</td><td>2008-04-30</td></tr><tr><td>152</td><td>66 </td><td>FR</td><td>false</td><td>Pyrénées Orientales</td><td>7</td><td>0374fd8e-3a19-4a9b-bb9e-db5871503afe</td><td>2008-04-30</td></tr><tr><td>153</td><td>67 </td><td>FR</td><td>false</td><td>Rhin (Bas)</td><td>7</td><td>196859b3-40c3-4d54-abbd-ef6aa8386df9</td><td>2008-04-30</td></tr><tr><td>154</td><td>68 </td><td>FR</td><td>false</td><td>Rhin (Haut)</td><td>7</td><td>1192f8bf-cca6-4ce2-bd08-2dd6e80b6cf6</td><td>2008-04-30</td></tr><tr><td>155</td><td>69 </td><td>FR</td><td>false</td><td>Rhône</td><td>7</td><td>d4f170d0-ff06-4a97-8de3-9f377272aa74</td><td>2008-04-30</td></tr><tr><td>156</td><td>70 </td><td>FR</td><td>false</td><td>Saône (Haute)</td><td>7</td><td>546feb94-3737-4698-ba0d-dc051c088939</td><td>2008-04-30</td></tr><tr><td>157</td><td>71 </td><td>FR</td><td>false</td><td>Saône et Loire</td><td>7</td><td>5d86860e-614e-4940-9cc4-549077196d5a</td><td>2008-04-30</td></tr><tr><td>158</td><td>72 </td><td>FR</td><td>false</td><td>Sarthe</td><td>7</td><td>0e32d0e5-e9c9-404d-b500-180bec6637d8</td><td>2008-04-30</td></tr><tr><td>159</td><td>73 </td><td>FR</td><td>false</td><td>Savoie</td><td>7</td><td>f8931ede-4941-420b-8d87-11c8514bc080</td><td>2008-04-30</td></tr><tr><td>160</td><td>74 </td><td>FR</td><td>false</td><td>Savoie Haute</td><td>7</td><td>126ab534-ff0b-474e-aefe-1caa53c9c3a2</td><td>2008-04-30</td></tr><tr><td>161</td><td>75 </td><td>FR</td><td>false</td><td>Seine (Paris)</td><td>7</td><td>e117a6fc-24b9-438b-86ff-8455107f4e9f</td><td>2008-04-30</td></tr><tr><td>162</td><td>76 </td><td>FR</td><td>false</td><td>Seine Maritime</td><td>7</td><td>46070a8d-2b94-4a05-a29b-189f7ffa7c56</td><td>2008-04-30</td></tr><tr><td>163</td><td>77 </td><td>FR</td><td>false</td><td>Seine et Marne</td><td>7</td><td>fd1511db-0a30-4b14-b60e-d2247473415e</td><td>2008-04-30</td></tr><tr><td>164</td><td>78 </td><td>FR</td><td>false</td><td>Yveline</td><td>7</td><td>a111eb2e-3217-485a-a510-673c0843c615</td><td>2008-04-30</td></tr><tr><td>165</td><td>79 </td><td>FR</td><td>false</td><td>Sèvres (Deux)</td><td>7</td><td>38e0a3d9-e813-454c-be54-6f019d687ecb</td><td>2008-04-30</td></tr><tr><td>166</td><td>80 </td><td>FR</td><td>false</td><td>Somme</td><td>7</td><td>8366de5d-5615-4168-9104-4379f9e59090</td><td>2008-04-30</td></tr><tr><td>167</td><td>81 </td><td>FR</td><td>false</td><td>Tarne</td><td>7</td><td>406b4fd5-e4a8-4db7-838b-8a33a617f242</td><td>2008-04-30</td></tr><tr><td>168</td><td>82 </td><td>FR</td><td>false</td><td>Tarne et Garonne</td><td>7</td><td>544f6f15-6359-45ca-b271-2a310e6cf151</td><td>2008-04-30</td></tr><tr><td>169</td><td>83 </td><td>FR</td><td>false</td><td>Var</td><td>7</td><td>08a673dc-6056-45b2-903c-976e8b6bd0b9</td><td>2008-04-30</td></tr><tr><td>170</td><td>84 </td><td>FR</td><td>false</td><td>Vaucluse</td><td>7</td><td>29691831-aced-46f8-bad2-a8c914b4f9f4</td><td>2008-04-30</td></tr><tr><td>171</td><td>85 </td><td>FR</td><td>false</td><td>La Vendée</td><td>7</td><td>2a5a84c2-30b0-4791-8da1-25e3dde497d8</td><td>2008-04-30</td></tr><tr><td>172</td><td>86 </td><td>FR</td><td>false</td><td>Vienne</td><td>7</td><td>78a90d81-396c-431a-aa14-0751f2644b25</td><td>2008-04-30</td></tr><tr><td>173</td><td>87 </td><td>FR</td><td>false</td><td>Vienne (Haute)</td><td>7</td><td>ab61f91c-50e3-45c3-a9d2-140940cecbf0</td><td>2008-04-30</td></tr><tr><td>174</td><td>88 </td><td>FR</td><td>false</td><td>Vosges</td><td>7</td><td>5a5cb4c2-72a1-40b7-a779-5a36b76e3942</td><td>2008-04-30</td></tr><tr><td>175</td><td>89 </td><td>FR</td><td>false</td><td>Yonne</td><td>7</td><td>3f8de296-bee5-4980-b81f-ebfcc1b16790</td><td>2008-04-30</td></tr><tr><td>176</td><td>90 </td><td>FR</td><td>false</td><td>Belford (Territoire de)</td><td>7</td><td>76adcaaa-4eb2-4ad8-893b-ef9f3cb5c6fb</td><td>2008-04-30</td></tr><tr><td>177</td><td>91 </td><td>FR</td><td>false</td><td>Essonne</td><td>7</td><td>35894a81-c267-4511-a706-99ea2c08181f</td><td>2008-04-30</td></tr><tr><td>178</td><td>92 </td><td>FR</td><td>false</td><td>Hauts de Seine</td><td>7</td><td>f8fd6d62-a913-4f10-9e42-d348eda02bd9</td><td>2008-04-30</td></tr><tr><td>179</td><td>93 </td><td>FR</td><td>false</td><td>Seine Saint Denis</td><td>7</td><td>466c15bc-46ec-427d-99db-98c380634527</td><td>2008-04-30</td></tr><tr><td>180</td><td>94 </td><td>FR</td><td>false</td><td>Val de Marne</td><td>7</td><td>fe0a2a02-fe1d-4b79-b970-167ec7f724fc</td><td>2008-04-30</td></tr><tr><td>181</td><td>95 </td><td>FR</td><td>false</td><td>Val d'Oise</td><td>7</td><td>e7580d97-910b-42b4-b4e2-72c8733889e0</td><td>2008-04-30</td></tr></tbody></table></div>"
      ]
     },
     "metadata": {
      "application/vnd.databricks.v1+output": {
       "addedWidgets": {},
       "aggData": [],
       "aggError": "",
       "aggOverflow": false,
       "aggSchema": [],
       "aggSeriesLimitReached": false,
       "aggType": "",
       "arguments": {},
       "columnCustomDisplayInfos": {},
       "data": [
        [
         1,
         "AB ",
         "CA",
         false,
         "Alberta",
         6,
         "298c2880-ab1c-4982-a5ad-a36eb4ba0d34",
         "2014-02-08"
        ],
        [
         2,
         "AK ",
         "US",
         false,
         "Alaska",
         1,
         "5b7b8462-a888-4e0b-a3e1-7278f8af107e",
         "2014-02-08"
        ],
        [
         3,
         "AL ",
         "US",
         false,
         "Alabama",
         5,
         "41b328be-21ae-45d0-841d-6f8dd71ce626",
         "2014-02-08"
        ],
        [
         4,
         "AR ",
         "US",
         false,
         "Arkansas",
         3,
         "54656a80-06f2-4c70-ba10-247179fc246e",
         "2014-02-08"
        ],
        [
         5,
         "AS ",
         "AS",
         true,
         "American Samoa",
         1,
         "255d15e1-9f6e-4cf8-9e5f-6b3858ad9b6a",
         "2014-02-08"
        ],
        [
         6,
         "AZ ",
         "US",
         false,
         "Arizona",
         4,
         "fb8be18e-f441-44f0-a4a9-1d0f204cb701",
         "2014-02-08"
        ],
        [
         7,
         "BC ",
         "CA",
         false,
         "British Columbia",
         6,
         "d27fcc6e-bb99-438b-ba86-285ceeb2fa53",
         "2014-02-08"
        ],
        [
         8,
         "BY ",
         "DE",
         false,
         "Bayern",
         8,
         "d54e5000-a0da-46d1-86b0-b8fe16c9f781",
         "2014-02-08"
        ],
        [
         9,
         "CA ",
         "US",
         false,
         "California",
         4,
         "3b2ff23c-1c75-40ae-9093-f4eb42263f4e",
         "2014-02-08"
        ],
        [
         10,
         "CO ",
         "US",
         false,
         "Colorado",
         3,
         "292df595-7d3c-41fb-a040-7c184d379fce",
         "2014-02-08"
        ],
        [
         11,
         "CT ",
         "US",
         false,
         "Connecticut",
         2,
         "1e7bb47a-e16b-4968-86fa-45af0211fa84",
         "2014-02-08"
        ],
        [
         12,
         "DC ",
         "US",
         false,
         "District of Columbia",
         2,
         "a1f3c57e-85b3-41e3-88e8-07244cf087dd",
         "2014-02-08"
        ],
        [
         13,
         "DE ",
         "US",
         false,
         "Delaware",
         2,
         "7a11ab1d-77c0-4021-9140-8e81f105618e",
         "2014-02-08"
        ],
        [
         14,
         "ENG",
         "GB",
         true,
         "England",
         10,
         "3e3cb3f8-44b9-44d9-a1c3-cbfb11e0a7da",
         "2014-02-08"
        ],
        [
         15,
         "FL ",
         "US",
         false,
         "Florida",
         5,
         "ee8ba90d-b2c3-418e-93df-20e33f095959",
         "2014-02-08"
        ],
        [
         16,
         "FM ",
         "FM",
         true,
         "Micronesia",
         9,
         "3202da35-aed4-40e2-9ec4-27c17f420170",
         "2014-02-08"
        ],
        [
         17,
         "GA ",
         "US",
         false,
         "Georgia",
         5,
         "a6ca20d1-31ac-4771-8994-93dbbdcce360",
         "2014-02-08"
        ],
        [
         18,
         "GU ",
         "US",
         false,
         "Guam",
         4,
         "92b5a04e-26ec-4edb-8d14-e72e29b14411",
         "2014-02-08"
        ],
        [
         19,
         "HE ",
         "DE",
         false,
         "Hessen",
         8,
         "834fc3df-b60d-4f94-95bd-aef8a9fb74e8",
         "2014-02-08"
        ],
        [
         20,
         "HH ",
         "DE",
         false,
         "Hamburg",
         8,
         "1cc5a134-60d7-40c2-9269-cda494214abf",
         "2014-02-08"
        ],
        [
         21,
         "HI ",
         "US",
         false,
         "Hawaii",
         1,
         "09cdccdc-b4b8-44ea-b04f-6ef521e3e720",
         "2014-02-08"
        ],
        [
         22,
         "IA ",
         "US",
         false,
         "Iowa",
         3,
         "956a6c02-7d2f-4c9d-b275-8d2c0ef8fd83",
         "2014-02-08"
        ],
        [
         23,
         "ID ",
         "US",
         false,
         "Idaho",
         1,
         "628e983a-33c7-4cb4-867f-274ef12b3597",
         "2014-02-08"
        ],
        [
         24,
         "IL ",
         "US",
         false,
         "Illinois",
         3,
         "1f9120cf-683a-4132-a12c-98997fadeb26",
         "2014-02-08"
        ],
        [
         25,
         "IN ",
         "US",
         false,
         "Indiana",
         2,
         "91f21ef0-c528-4310-bb29-6ba45ae75a17",
         "2014-02-08"
        ],
        [
         26,
         "KS ",
         "US",
         false,
         "Kansas",
         3,
         "4eccc236-56e8-4ff7-b510-bf50e0966046",
         "2014-02-08"
        ],
        [
         27,
         "KY ",
         "US",
         false,
         "Kentucky",
         5,
         "810918bc-45dc-4e01-8544-b322a05ec94e",
         "2014-02-08"
        ],
        [
         28,
         "LA ",
         "US",
         false,
         "Louisiana",
         3,
         "4e2bc5a5-0c3e-421b-be18-5d79b4a7c0d0",
         "2014-02-08"
        ],
        [
         29,
         "LB ",
         "CA",
         false,
         "Labrador",
         6,
         "9847c998-a7bf-4a66-bbac-75939b092cc0",
         "2014-02-08"
        ],
        [
         30,
         "MA ",
         "US",
         false,
         "Massachusetts",
         2,
         "77d7e754-1b03-4bb3-a4d4-b1a6ac1c968e",
         "2014-02-08"
        ],
        [
         31,
         "MB ",
         "CA",
         false,
         "Manitoba",
         6,
         "0ff23b5d-1e18-40f8-a886-9960ed699049",
         "2014-02-08"
        ],
        [
         32,
         "MD ",
         "US",
         false,
         "Maryland",
         2,
         "b3d8517d-a857-41e7-a692-a1cb02a5f667",
         "2014-02-08"
        ],
        [
         33,
         "ME ",
         "US",
         false,
         "Maine",
         2,
         "b978a102-632b-4345-8918-e0e8f440fc3b",
         "2014-02-08"
        ],
        [
         34,
         "MH ",
         "MH",
         true,
         "Marshall Islands",
         9,
         "c5c5a615-e2dd-4fdf-a4a7-0613c6ccae80",
         "2014-02-08"
        ],
        [
         35,
         "MI ",
         "US",
         false,
         "Michigan",
         3,
         "0cb0855b-783a-4701-9d45-597a919bfb23",
         "2014-02-08"
        ],
        [
         36,
         "MN ",
         "US",
         false,
         "Minnesota",
         3,
         "553c8daa-4142-427c-b772-66bedadef372",
         "2014-02-08"
        ],
        [
         37,
         "MO ",
         "US",
         false,
         "Missouri",
         3,
         "ff5d76ae-0b45-4f32-96f7-ad5b7775e9ec",
         "2014-02-08"
        ],
        [
         38,
         "MP ",
         "MP",
         true,
         "Northern Mariana Islands",
         9,
         "abebd704-db65-47f7-a778-528025f7e7f4",
         "2014-02-08"
        ],
        [
         39,
         "MS ",
         "US",
         false,
         "Mississippi",
         5,
         "d33f23c7-60be-4d31-8028-814a6cca7f37",
         "2014-02-08"
        ],
        [
         40,
         "MT ",
         "US",
         false,
         "Montana",
         1,
         "d4ff6e1a-a8e8-4379-a43c-746dbb0d6d13",
         "2014-02-08"
        ],
        [
         41,
         "NB ",
         "CA",
         false,
         "Brunswick",
         6,
         "c28c848f-ae86-4859-9e7e-0190d6c22700",
         "2014-02-08"
        ],
        [
         42,
         "NC ",
         "US",
         false,
         "North Carolina",
         5,
         "2c1c5211-3388-4dff-b0ff-db0b43e4a22d",
         "2014-02-08"
        ],
        [
         43,
         "ND ",
         "US",
         false,
         "North Dakota",
         3,
         "1551bea8-4dee-477d-858f-45ff7a2fb14f",
         "2014-02-08"
        ],
        [
         44,
         "NE ",
         "US",
         false,
         "Nebraska",
         3,
         "2dea1c82-a684-4d7c-bea2-4119d9d3ae60",
         "2014-02-08"
        ],
        [
         45,
         "NF ",
         "CA",
         false,
         "Newfoundland",
         6,
         "26d01b6d-3726-453f-b1f3-98a332eb3d8d",
         "2014-02-08"
        ],
        [
         46,
         "NH ",
         "US",
         false,
         "New Hampshire",
         2,
         "b30c26ae-62e3-499a-80a8-a167275baebd",
         "2014-02-08"
        ],
        [
         47,
         "NJ ",
         "US",
         false,
         "New Jersey",
         2,
         "7464d0b1-78a7-4f8a-b4cc-375900005f46",
         "2014-02-08"
        ],
        [
         48,
         "NM ",
         "US",
         false,
         "New Mexico",
         4,
         "11deda26-4733-497f-bae3-7bed6b076600",
         "2014-02-08"
        ],
        [
         49,
         "NS ",
         "CA",
         false,
         "Nova Scotia",
         6,
         "adf58ba5-269f-4c48-8c7d-6754e4667acf",
         "2014-02-08"
        ],
        [
         50,
         "NSW",
         "AU",
         false,
         "New South Wales",
         9,
         "9910dd7e-a4c5-4599-86f5-9f581b53a92d",
         "2014-02-08"
        ],
        [
         51,
         "NT ",
         "CA",
         false,
         "Northwest Territories",
         6,
         "ccaac582-ef30-492c-93ce-5f8b3452d531",
         "2014-02-08"
        ],
        [
         52,
         "NV ",
         "US",
         false,
         "Nevada",
         1,
         "50e0fbe0-50b7-40eb-a20b-aaae85a680dd",
         "2014-02-08"
        ],
        [
         53,
         "NW ",
         "DE",
         false,
         "Nordrhein-Westfalen",
         8,
         "c385b296-fbb7-44e1-9ded-23b7fba346f0",
         "2014-02-08"
        ],
        [
         54,
         "NY ",
         "US",
         false,
         "New York",
         2,
         "4f83e68d-4c26-4c53-a4b3-46b7f19c6498",
         "2014-02-08"
        ],
        [
         55,
         "OH ",
         "US",
         false,
         "Ohio",
         2,
         "6e1792b5-d021-47b1-98fc-9d60f46f3400",
         "2014-02-08"
        ],
        [
         56,
         "OK ",
         "US",
         false,
         "Oklahoma",
         3,
         "aa680eba-b546-4718-8379-963da0cea86f",
         "2014-02-08"
        ],
        [
         57,
         "ON ",
         "CA",
         false,
         "Ontario",
         6,
         "5528e2cf-ae39-4f65-bd32-fa32c6ff96fa",
         "2014-02-08"
        ],
        [
         58,
         "OR ",
         "US",
         false,
         "Oregon",
         1,
         "17ebf52e-94c8-4e7b-9ef3-5b6236763b49",
         "2014-02-08"
        ],
        [
         59,
         "PA ",
         "US",
         false,
         "Pennsylvania",
         2,
         "9e1d834c-7076-4546-9f1b-1bd626037250",
         "2014-02-08"
        ],
        [
         60,
         "PE ",
         "CA",
         false,
         "Prince Edward Island",
         6,
         "8b3ec300-24f0-42ab-8dcf-60f45f007642",
         "2014-02-08"
        ],
        [
         61,
         "PR ",
         "US",
         false,
         "Puerto Rico",
         5,
         "71b87f6c-5c07-4b7f-8d8c-2c5310410579",
         "2014-02-08"
        ],
        [
         62,
         "PW ",
         "PW",
         true,
         "Palau",
         9,
         "efcf1702-2358-40fc-be8f-df6d71a7d89a",
         "2014-02-08"
        ],
        [
         63,
         "QC ",
         "CA",
         false,
         "Quebec",
         6,
         "ff830158-3466-495f-bfcf-8a1b82a65355",
         "2014-02-08"
        ],
        [
         64,
         "QLD",
         "AU",
         false,
         "Queensland",
         9,
         "152658fa-ad59-4fa0-82a6-f76980f0183f",
         "2014-02-08"
        ],
        [
         65,
         "RI ",
         "US",
         false,
         "Rhode Island",
         2,
         "7fc72ab3-646d-475f-a708-544af3636aa8",
         "2014-02-08"
        ],
        [
         66,
         "SA ",
         "AU",
         false,
         "South Australia",
         9,
         "dcae37cd-fd8d-41fe-90ed-edad22b63dc8",
         "2014-02-08"
        ],
        [
         67,
         "SC ",
         "US",
         false,
         "South Carolina",
         5,
         "131cf47d-4f64-4a08-afcb-0a1ee17a8534",
         "2014-02-08"
        ],
        [
         68,
         "SD ",
         "US",
         false,
         "South Dakota",
         3,
         "90aad17f-451f-42a1-9cf8-ec65b0acb34f",
         "2014-02-08"
        ],
        [
         69,
         "SK ",
         "CA",
         false,
         "Saskatchewan",
         6,
         "d44759ba-43e8-42e7-98fa-54b377c734fc",
         "2014-02-08"
        ],
        [
         70,
         "SL ",
         "DE",
         false,
         "Saarland",
         8,
         "f555dd9e-a190-4dc4-9433-7fe257aa6e82",
         "2014-02-08"
        ],
        [
         71,
         "TAS",
         "AU",
         false,
         "Tasmania",
         9,
         "2db59b03-9f19-4d12-acef-974016827be1",
         "2014-02-08"
        ],
        [
         72,
         "TN ",
         "US",
         false,
         "Tennessee",
         5,
         "d1b0f98f-514d-42b4-b84b-9c40a8a455d5",
         "2014-02-08"
        ],
        [
         73,
         "TX ",
         "US",
         false,
         "Texas",
         4,
         "99c542e0-5d3d-43a6-8d96-af65a985d6e4",
         "2014-02-08"
        ],
        [
         74,
         "UT ",
         "US",
         false,
         "Utah",
         1,
         "fd66be42-bfef-4233-942b-e8d79a594afa",
         "2014-02-08"
        ],
        [
         75,
         "VA ",
         "US",
         false,
         "Virginia",
         5,
         "990aa59c-838c-410f-a675-17eb861fa33f",
         "2014-02-08"
        ],
        [
         76,
         "VI ",
         "VI",
         true,
         "Virgin Islands",
         5,
         "14f593d3-1500-477d-ac6b-d41b3fafbe5a",
         "2014-02-08"
        ],
        [
         77,
         "VIC",
         "AU",
         false,
         "Victoria",
         9,
         "6a683928-8f1f-4369-a64a-60979e216824",
         "2014-02-08"
        ],
        [
         78,
         "VT ",
         "US",
         false,
         "Vermont",
         2,
         "348687e4-7879-4d74-afd7-c8511588cfa3",
         "2014-02-08"
        ],
        [
         79,
         "WA ",
         "US",
         false,
         "Washington",
         1,
         "16274df0-6f05-43a6-bc18-ad171017a1eb",
         "2014-02-08"
        ],
        [
         80,
         "WI ",
         "US",
         false,
         "Wisconsin",
         3,
         "9d93821e-3add-42de-bd51-81cfa94046ff",
         "2014-02-08"
        ],
        [
         81,
         "WV ",
         "US",
         false,
         "West Virginia",
         5,
         "c9ce898f-8e21-4fbf-a70a-06f32d543a18",
         "2014-02-08"
        ],
        [
         82,
         "WY ",
         "US",
         false,
         "Wyoming",
         1,
         "778951dc-0475-4054-8cab-892c8a38174e",
         "2014-02-08"
        ],
        [
         83,
         "YT ",
         "CA",
         false,
         "Yukon Territory",
         6,
         "a01f5896-c4b1-4c2a-9f60-56470dd39f82",
         "2014-02-08"
        ],
        [
         84,
         "FR ",
         "FR",
         true,
         "France",
         7,
         "092c7063-901e-414b-bc61-0bf7919da883",
         "2008-04-30"
        ],
        [
         85,
         "BB ",
         "DE",
         false,
         "Brandenburg",
         8,
         "dd386c06-2beb-4f18-9a85-c066f1a47ea1",
         "2008-04-30"
        ],
        [
         86,
         "SN ",
         "DE",
         false,
         "Saxony",
         8,
         "c3e9d0d7-12e7-4395-ac37-11498a3c5e2d",
         "2008-04-30"
        ],
        [
         87,
         "01 ",
         "FR",
         false,
         "Ain",
         7,
         "f6f7985c-9132-46b5-8963-f99c9f3234de",
         "2008-04-30"
        ],
        [
         88,
         "02 ",
         "FR",
         false,
         "Aisne",
         7,
         "1b30c5e7-9bb4-4546-9306-4600ca0e90ca",
         "2008-04-30"
        ],
        [
         89,
         "03 ",
         "FR",
         false,
         "Allier",
         7,
         "dd59673d-852a-4aaf-9b27-623f54477ec2",
         "2008-04-30"
        ],
        [
         90,
         "04 ",
         "FR",
         false,
         "Alpes-de-Haute Provence",
         7,
         "458480b4-e4ab-4015-b73a-1b7296f8b8b3",
         "2008-04-30"
        ],
        [
         91,
         "05 ",
         "FR",
         false,
         "Alpes (Haute)",
         7,
         "0af69922-9301-4e3e-8592-e7a268a27b7a",
         "2008-04-30"
        ],
        [
         92,
         "06 ",
         "FR",
         false,
         "Alpes-Maritimes",
         7,
         "1aaa549b-d0d0-4cfe-be07-8f2858d44505",
         "2008-04-30"
        ],
        [
         93,
         "07 ",
         "FR",
         false,
         "Ardèche",
         7,
         "7c566b51-1e45-4bff-98b7-34cb813de6e1",
         "2008-04-30"
        ],
        [
         94,
         "08 ",
         "FR",
         false,
         "Ardennes",
         7,
         "91e9286b-e601-4f26-95e4-062865e515bf",
         "2008-04-30"
        ],
        [
         95,
         "09 ",
         "FR",
         false,
         "Ariège",
         7,
         "fe5a9442-417c-48c3-b582-ed40b7813c2c",
         "2008-04-30"
        ],
        [
         96,
         "10 ",
         "FR",
         false,
         "Aube",
         7,
         "519d0fb2-ffbf-4b4b-9112-58fea32d84e6",
         "2008-04-30"
        ],
        [
         97,
         "11 ",
         "FR",
         false,
         "Aude",
         7,
         "b451ce92-b0f6-47ff-8769-050050432c9c",
         "2008-04-30"
        ],
        [
         98,
         "12 ",
         "FR",
         false,
         "Aveyron",
         7,
         "79cd2767-a7d9-4bd6-beec-d2cdf4da0af1",
         "2008-04-30"
        ],
        [
         99,
         "13 ",
         "FR",
         false,
         "Bouches du Rhône",
         7,
         "32519bd3-40c2-4976-8579-0f1a7d2d3de4",
         "2008-04-30"
        ],
        [
         100,
         "14 ",
         "FR",
         false,
         "Calvados",
         7,
         "2bd91456-c8ae-4a5d-9270-a4a446eccacb",
         "2008-04-30"
        ],
        [
         101,
         "15 ",
         "FR",
         false,
         "Cantal",
         7,
         "01cec802-20ce-4f96-b475-2ad263cea9d0",
         "2008-04-30"
        ],
        [
         102,
         "16 ",
         "FR",
         false,
         "Charente",
         7,
         "2659c871-80a6-4b8c-b70f-c797d0398bc4",
         "2008-04-30"
        ],
        [
         103,
         "17 ",
         "FR",
         false,
         "Charente-Maritime",
         7,
         "00723e00-c976-401d-a92b-e582df3d6e01",
         "2008-04-30"
        ],
        [
         104,
         "18 ",
         "FR",
         false,
         "Cher",
         7,
         "6adb6ece-a89e-4b00-a886-90436ecd9b68",
         "2008-04-30"
        ],
        [
         105,
         "19 ",
         "FR",
         false,
         "Corrèze",
         7,
         "2363831b-b0ba-4976-92fa-1930817f66c4",
         "2008-04-30"
        ],
        [
         106,
         "20 ",
         "FR",
         false,
         "Corse",
         7,
         "b424959c-9400-492b-9b4c-9f478b77a02c",
         "2008-04-30"
        ],
        [
         107,
         "21 ",
         "FR",
         false,
         "Côte d'Or",
         7,
         "6e9c32d8-b47a-444e-818e-54ecce0b779b",
         "2008-04-30"
        ],
        [
         108,
         "22 ",
         "FR",
         false,
         "Côtes-d'Armor",
         7,
         "a18c188b-64ac-44f6-9928-eb8fc2b924fd",
         "2008-04-30"
        ],
        [
         109,
         "23 ",
         "FR",
         false,
         "Creuse",
         7,
         "d745141e-8645-4309-abab-76a95a8b0a83",
         "2008-04-30"
        ],
        [
         110,
         "24 ",
         "FR",
         false,
         "Dordogne",
         7,
         "6eba51c3-31d2-4376-a4e2-9121b048768f",
         "2008-04-30"
        ],
        [
         111,
         "25 ",
         "FR",
         false,
         "Toubs",
         7,
         "f0622ec9-4eb7-4019-9b08-fd2ed3f74b9b",
         "2008-04-30"
        ],
        [
         112,
         "26 ",
         "FR",
         false,
         "Drôme",
         7,
         "be52295d-d7bd-4dc6-8862-82c0a03dbb30",
         "2008-04-30"
        ],
        [
         113,
         "27 ",
         "FR",
         false,
         "Eure",
         7,
         "8d04729d-75ef-410e-9d04-a95fa51b4b02",
         "2008-04-30"
        ],
        [
         114,
         "28 ",
         "FR",
         false,
         "Eure et Loir",
         7,
         "51cc8b1d-a2a1-440b-8105-bf0e6c74d213",
         "2008-04-30"
        ],
        [
         115,
         "29 ",
         "FR",
         false,
         "Finistère",
         7,
         "f35691e8-878a-4b62-90d8-3de2fb7fae1e",
         "2008-04-30"
        ],
        [
         116,
         "30 ",
         "FR",
         false,
         "Gard",
         7,
         "486709b6-66ca-4778-8dde-13783af7f08b",
         "2008-04-30"
        ],
        [
         117,
         "31 ",
         "FR",
         false,
         "Garonne (Haute)",
         7,
         "d1c5af23-8e71-4320-845f-d324d2d83011",
         "2008-04-30"
        ],
        [
         118,
         "32 ",
         "FR",
         false,
         "Gers",
         7,
         "1e387594-ef10-401a-820e-58cc44c71d0c",
         "2008-04-30"
        ],
        [
         119,
         "33 ",
         "FR",
         false,
         "Gironde",
         7,
         "90b73724-a580-44a6-a1ce-54f98235b83b",
         "2008-04-30"
        ],
        [
         120,
         "34 ",
         "FR",
         false,
         "Hérault",
         7,
         "ab4408a6-1acb-4af4-9b1e-217636d7f3ca",
         "2008-04-30"
        ],
        [
         121,
         "35 ",
         "FR",
         false,
         "Ille et Vilaine",
         7,
         "daf07757-b0b3-49e9-ad2a-cb659ed2b2b4",
         "2008-04-30"
        ],
        [
         122,
         "36 ",
         "FR",
         false,
         "Indre",
         7,
         "aa7107a6-c155-491d-9df3-48cf033af366",
         "2008-04-30"
        ],
        [
         123,
         "37 ",
         "FR",
         false,
         "Indre et Loire",
         7,
         "e8b02fcc-964e-4fdc-ab7e-287f4df5142b",
         "2008-04-30"
        ],
        [
         124,
         "38 ",
         "FR",
         false,
         "Isère",
         7,
         "9c594ba5-1a5b-4b65-8ebe-85bf850fe27b",
         "2008-04-30"
        ],
        [
         125,
         "39 ",
         "FR",
         false,
         "Jura",
         7,
         "2d5e0bde-f3c4-4887-b89f-dca00bab9d63",
         "2008-04-30"
        ],
        [
         126,
         "40 ",
         "FR",
         false,
         "Landes",
         7,
         "95827758-97c8-4058-b5a5-afedfaf4f70f",
         "2008-04-30"
        ],
        [
         127,
         "41 ",
         "FR",
         false,
         "Loir et Cher",
         7,
         "17ec707a-33f7-4261-86cb-9641c2927172",
         "2008-04-30"
        ],
        [
         128,
         "42 ",
         "FR",
         false,
         "Loire",
         7,
         "58b4525b-5306-4390-9ee9-48e2d9502c02",
         "2008-04-30"
        ],
        [
         129,
         "43 ",
         "FR",
         false,
         "Loire (Haute)",
         7,
         "f18ba5b9-2168-4872-9c80-e7f097ab88e0",
         "2008-04-30"
        ],
        [
         130,
         "44 ",
         "FR",
         false,
         "Loire Atlantique",
         7,
         "a87b21f6-4c5c-4735-8615-bba99a16ace2",
         "2008-04-30"
        ],
        [
         131,
         "45 ",
         "FR",
         false,
         "Loiret",
         7,
         "cc67b8c0-bab9-4978-8b61-fa985ae094e1",
         "2008-04-30"
        ],
        [
         132,
         "46 ",
         "FR",
         false,
         "Lot",
         7,
         "fe593326-b0f0-433d-a060-7aa2d37d9cea",
         "2008-04-30"
        ],
        [
         133,
         "47 ",
         "FR",
         false,
         "Lot et Garonne",
         7,
         "4ff85d44-e027-4341-a3b2-b9ba564547f8",
         "2008-04-30"
        ],
        [
         134,
         "48 ",
         "FR",
         false,
         "Lozère",
         7,
         "b862bbab-aef6-4c4d-881f-4207254983c7",
         "2008-04-30"
        ],
        [
         135,
         "49 ",
         "FR",
         false,
         "Maine et Loire",
         7,
         "ef2487e7-0965-4abe-a06c-84cef8964386",
         "2008-04-30"
        ],
        [
         136,
         "50 ",
         "FR",
         false,
         "Manche",
         7,
         "8139979c-2881-4668-9a8e-a45154f809ea",
         "2008-04-30"
        ],
        [
         137,
         "51 ",
         "FR",
         false,
         "Marne",
         7,
         "41b9cb24-50b3-43f7-9e0e-79d901bd45d0",
         "2008-04-30"
        ],
        [
         138,
         "52 ",
         "FR",
         false,
         "Marne (Haute)",
         7,
         "babce9d8-a133-4195-875f-1e65e48844c9",
         "2008-04-30"
        ],
        [
         139,
         "53 ",
         "FR",
         false,
         "Mayenne",
         7,
         "59593a57-5319-43b4-ad3b-78abcb6c12f2",
         "2008-04-30"
        ],
        [
         140,
         "54 ",
         "FR",
         false,
         "Meurthe et Moselle",
         7,
         "8ce54442-acf1-404d-ae17-540e4da781af",
         "2008-04-30"
        ],
        [
         141,
         "55 ",
         "FR",
         false,
         "Meuse",
         7,
         "ca5ed35c-0542-43ed-8f15-a5e1c9c9ab90",
         "2008-04-30"
        ],
        [
         142,
         "56 ",
         "FR",
         false,
         "Morbihan",
         7,
         "a1b147fe-14c8-4cb2-9902-c437ff44ce7b",
         "2008-04-30"
        ],
        [
         143,
         "57 ",
         "FR",
         false,
         "Moselle",
         7,
         "23ec96b5-21ee-4769-be59-812eae26a216",
         "2008-04-30"
        ],
        [
         144,
         "58 ",
         "FR",
         false,
         "Nièvre",
         7,
         "c6088b46-64b3-492c-a4cd-f81b93f351a1",
         "2008-04-30"
        ],
        [
         145,
         "59 ",
         "FR",
         false,
         "Nord",
         7,
         "70943de7-d74a-4de7-8dcf-3fea66efcfdb",
         "2008-04-30"
        ],
        [
         146,
         "60 ",
         "FR",
         false,
         "Oise",
         7,
         "e15a21bc-1bdb-413e-93fb-0a81d6869068",
         "2008-04-30"
        ],
        [
         147,
         "61 ",
         "FR",
         false,
         "Orne",
         7,
         "24753bb2-e1f6-4d1f-b659-81f2ad4a9458",
         "2008-04-30"
        ],
        [
         148,
         "62 ",
         "FR",
         false,
         "Pas de Calais",
         7,
         "72450195-ed1e-4a21-8cc5-5aac8eb9327a",
         "2008-04-30"
        ],
        [
         149,
         "63 ",
         "FR",
         false,
         "Puy de Dôme",
         7,
         "e222d130-0d35-4c6a-9a98-024a758fc677",
         "2008-04-30"
        ],
        [
         150,
         "64 ",
         "FR",
         false,
         "Pyrénées Atlantiques",
         7,
         "f3b411d2-9e8c-4d53-ab5b-06016a44356b",
         "2008-04-30"
        ],
        [
         151,
         "65 ",
         "FR",
         false,
         "Pyrénées (Hautes)",
         7,
         "b5dca57f-0714-4f42-81af-0c5c9eca01f9",
         "2008-04-30"
        ],
        [
         152,
         "66 ",
         "FR",
         false,
         "Pyrénées Orientales",
         7,
         "0374fd8e-3a19-4a9b-bb9e-db5871503afe",
         "2008-04-30"
        ],
        [
         153,
         "67 ",
         "FR",
         false,
         "Rhin (Bas)",
         7,
         "196859b3-40c3-4d54-abbd-ef6aa8386df9",
         "2008-04-30"
        ],
        [
         154,
         "68 ",
         "FR",
         false,
         "Rhin (Haut)",
         7,
         "1192f8bf-cca6-4ce2-bd08-2dd6e80b6cf6",
         "2008-04-30"
        ],
        [
         155,
         "69 ",
         "FR",
         false,
         "Rhône",
         7,
         "d4f170d0-ff06-4a97-8de3-9f377272aa74",
         "2008-04-30"
        ],
        [
         156,
         "70 ",
         "FR",
         false,
         "Saône (Haute)",
         7,
         "546feb94-3737-4698-ba0d-dc051c088939",
         "2008-04-30"
        ],
        [
         157,
         "71 ",
         "FR",
         false,
         "Saône et Loire",
         7,
         "5d86860e-614e-4940-9cc4-549077196d5a",
         "2008-04-30"
        ],
        [
         158,
         "72 ",
         "FR",
         false,
         "Sarthe",
         7,
         "0e32d0e5-e9c9-404d-b500-180bec6637d8",
         "2008-04-30"
        ],
        [
         159,
         "73 ",
         "FR",
         false,
         "Savoie",
         7,
         "f8931ede-4941-420b-8d87-11c8514bc080",
         "2008-04-30"
        ],
        [
         160,
         "74 ",
         "FR",
         false,
         "Savoie Haute",
         7,
         "126ab534-ff0b-474e-aefe-1caa53c9c3a2",
         "2008-04-30"
        ],
        [
         161,
         "75 ",
         "FR",
         false,
         "Seine (Paris)",
         7,
         "e117a6fc-24b9-438b-86ff-8455107f4e9f",
         "2008-04-30"
        ],
        [
         162,
         "76 ",
         "FR",
         false,
         "Seine Maritime",
         7,
         "46070a8d-2b94-4a05-a29b-189f7ffa7c56",
         "2008-04-30"
        ],
        [
         163,
         "77 ",
         "FR",
         false,
         "Seine et Marne",
         7,
         "fd1511db-0a30-4b14-b60e-d2247473415e",
         "2008-04-30"
        ],
        [
         164,
         "78 ",
         "FR",
         false,
         "Yveline",
         7,
         "a111eb2e-3217-485a-a510-673c0843c615",
         "2008-04-30"
        ],
        [
         165,
         "79 ",
         "FR",
         false,
         "Sèvres (Deux)",
         7,
         "38e0a3d9-e813-454c-be54-6f019d687ecb",
         "2008-04-30"
        ],
        [
         166,
         "80 ",
         "FR",
         false,
         "Somme",
         7,
         "8366de5d-5615-4168-9104-4379f9e59090",
         "2008-04-30"
        ],
        [
         167,
         "81 ",
         "FR",
         false,
         "Tarne",
         7,
         "406b4fd5-e4a8-4db7-838b-8a33a617f242",
         "2008-04-30"
        ],
        [
         168,
         "82 ",
         "FR",
         false,
         "Tarne et Garonne",
         7,
         "544f6f15-6359-45ca-b271-2a310e6cf151",
         "2008-04-30"
        ],
        [
         169,
         "83 ",
         "FR",
         false,
         "Var",
         7,
         "08a673dc-6056-45b2-903c-976e8b6bd0b9",
         "2008-04-30"
        ],
        [
         170,
         "84 ",
         "FR",
         false,
         "Vaucluse",
         7,
         "29691831-aced-46f8-bad2-a8c914b4f9f4",
         "2008-04-30"
        ],
        [
         171,
         "85 ",
         "FR",
         false,
         "La Vendée",
         7,
         "2a5a84c2-30b0-4791-8da1-25e3dde497d8",
         "2008-04-30"
        ],
        [
         172,
         "86 ",
         "FR",
         false,
         "Vienne",
         7,
         "78a90d81-396c-431a-aa14-0751f2644b25",
         "2008-04-30"
        ],
        [
         173,
         "87 ",
         "FR",
         false,
         "Vienne (Haute)",
         7,
         "ab61f91c-50e3-45c3-a9d2-140940cecbf0",
         "2008-04-30"
        ],
        [
         174,
         "88 ",
         "FR",
         false,
         "Vosges",
         7,
         "5a5cb4c2-72a1-40b7-a779-5a36b76e3942",
         "2008-04-30"
        ],
        [
         175,
         "89 ",
         "FR",
         false,
         "Yonne",
         7,
         "3f8de296-bee5-4980-b81f-ebfcc1b16790",
         "2008-04-30"
        ],
        [
         176,
         "90 ",
         "FR",
         false,
         "Belford (Territoire de)",
         7,
         "76adcaaa-4eb2-4ad8-893b-ef9f3cb5c6fb",
         "2008-04-30"
        ],
        [
         177,
         "91 ",
         "FR",
         false,
         "Essonne",
         7,
         "35894a81-c267-4511-a706-99ea2c08181f",
         "2008-04-30"
        ],
        [
         178,
         "92 ",
         "FR",
         false,
         "Hauts de Seine",
         7,
         "f8fd6d62-a913-4f10-9e42-d348eda02bd9",
         "2008-04-30"
        ],
        [
         179,
         "93 ",
         "FR",
         false,
         "Seine Saint Denis",
         7,
         "466c15bc-46ec-427d-99db-98c380634527",
         "2008-04-30"
        ],
        [
         180,
         "94 ",
         "FR",
         false,
         "Val de Marne",
         7,
         "fe0a2a02-fe1d-4b79-b970-167ec7f724fc",
         "2008-04-30"
        ],
        [
         181,
         "95 ",
         "FR",
         false,
         "Val d'Oise",
         7,
         "e7580d97-910b-42b4-b4e2-72c8733889e0",
         "2008-04-30"
        ]
       ],
       "datasetInfos": [],
       "dbfsResultPath": null,
       "isJsonSchema": true,
       "metadata": {},
       "overflow": false,
       "plotOptions": {
        "customPlotOptions": {},
        "displayType": "table",
        "pivotAggregation": null,
        "pivotColumns": null,
        "xColumns": null,
        "yColumns": null
       },
       "removedWidgets": [],
       "schema": [
        {
         "metadata": "{}",
         "name": "StateProvinceID",
         "type": "\"integer\""
        },
        {
         "metadata": "{}",
         "name": "StateProvinceCode",
         "type": "\"string\""
        },
        {
         "metadata": "{}",
         "name": "CountryRegionCode",
         "type": "\"string\""
        },
        {
         "metadata": "{}",
         "name": "IsOnlyStateProvinceFlag",
         "type": "\"boolean\""
        },
        {
         "metadata": "{}",
         "name": "Name",
         "type": "\"string\""
        },
        {
         "metadata": "{}",
         "name": "TerritoryID",
         "type": "\"integer\""
        },
        {
         "metadata": "{}",
         "name": "rowguid",
         "type": "\"string\""
        },
        {
         "metadata": "{}",
         "name": "ModifiedDate",
         "type": "\"string\""
        }
       ],
       "type": "table"
      }
     },
     "output_type": "display_data"
    }
   ],
   "source": [
    "display(df)"
   ]
  }
 ],
 "metadata": {
  "application/vnd.databricks.v1+notebook": {
   "dashboards": [],
   "language": "python",
   "notebookMetadata": {
    "pythonIndentUnit": 4
   },
   "notebookName": "Bronze to Silver",
   "widgets": {}
  }
 },
 "nbformat": 4,
 "nbformat_minor": 0
}
